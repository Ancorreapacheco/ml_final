{
 "cells": [
  {
   "cell_type": "code",
   "execution_count": 11,
   "metadata": {},
   "outputs": [],
   "source": [
    "import pandas as pd\n",
    "\n",
    "#Graficas\n",
    "import matplotlib.pyplot as plt\n",
    "import seaborn as sns\n"
   ]
  },
  {
   "cell_type": "markdown",
   "metadata": {},
   "source": [
    "# DATOS"
   ]
  },
  {
   "cell_type": "markdown",
   "metadata": {},
   "source": [
    "## Importar"
   ]
  },
  {
   "cell_type": "code",
   "execution_count": 4,
   "metadata": {},
   "outputs": [],
   "source": [
    "df = pd.read_csv('./datasets/mitbih_data.csv', header= None)\n",
    "df.rename(columns={187:\"label\"}, inplace=True) #renombrar la columna de label"
   ]
  },
  {
   "cell_type": "code",
   "execution_count": 16,
   "metadata": {},
   "outputs": [
    {
     "name": "stdout",
     "output_type": "stream",
     "text": [
      "<class 'pandas.core.frame.DataFrame'>\n",
      "RangeIndex: 109446 entries, 0 to 109445\n",
      "Columns: 188 entries, 0 to label\n",
      "dtypes: float64(188)\n",
      "memory usage: 157.0 MB\n"
     ]
    }
   ],
   "source": [
    "df.info()"
   ]
  },
  {
   "cell_type": "code",
   "execution_count": 5,
   "metadata": {},
   "outputs": [
    {
     "data": {
      "text/html": [
       "<div>\n",
       "<style scoped>\n",
       "    .dataframe tbody tr th:only-of-type {\n",
       "        vertical-align: middle;\n",
       "    }\n",
       "\n",
       "    .dataframe tbody tr th {\n",
       "        vertical-align: top;\n",
       "    }\n",
       "\n",
       "    .dataframe thead th {\n",
       "        text-align: right;\n",
       "    }\n",
       "</style>\n",
       "<table border=\"1\" class=\"dataframe\">\n",
       "  <thead>\n",
       "    <tr style=\"text-align: right;\">\n",
       "      <th></th>\n",
       "      <th>0</th>\n",
       "      <th>1</th>\n",
       "      <th>2</th>\n",
       "      <th>3</th>\n",
       "      <th>4</th>\n",
       "      <th>5</th>\n",
       "      <th>6</th>\n",
       "      <th>7</th>\n",
       "      <th>8</th>\n",
       "      <th>9</th>\n",
       "      <th>...</th>\n",
       "      <th>178</th>\n",
       "      <th>179</th>\n",
       "      <th>180</th>\n",
       "      <th>181</th>\n",
       "      <th>182</th>\n",
       "      <th>183</th>\n",
       "      <th>184</th>\n",
       "      <th>185</th>\n",
       "      <th>186</th>\n",
       "      <th>label</th>\n",
       "    </tr>\n",
       "  </thead>\n",
       "  <tbody>\n",
       "    <tr>\n",
       "      <th>0</th>\n",
       "      <td>1.000</td>\n",
       "      <td>0.758</td>\n",
       "      <td>0.112</td>\n",
       "      <td>0.000</td>\n",
       "      <td>0.0806</td>\n",
       "      <td>0.07850</td>\n",
       "      <td>0.0661</td>\n",
       "      <td>0.04960</td>\n",
       "      <td>0.0475</td>\n",
       "      <td>0.0351</td>\n",
       "      <td>...</td>\n",
       "      <td>0.0</td>\n",
       "      <td>0.0</td>\n",
       "      <td>0.0</td>\n",
       "      <td>0.0</td>\n",
       "      <td>0.0</td>\n",
       "      <td>0.0</td>\n",
       "      <td>0.0</td>\n",
       "      <td>0.0</td>\n",
       "      <td>0.0</td>\n",
       "      <td>0.0</td>\n",
       "    </tr>\n",
       "    <tr>\n",
       "      <th>1</th>\n",
       "      <td>0.908</td>\n",
       "      <td>0.784</td>\n",
       "      <td>0.531</td>\n",
       "      <td>0.363</td>\n",
       "      <td>0.3660</td>\n",
       "      <td>0.34400</td>\n",
       "      <td>0.3330</td>\n",
       "      <td>0.30800</td>\n",
       "      <td>0.2970</td>\n",
       "      <td>0.3000</td>\n",
       "      <td>...</td>\n",
       "      <td>0.0</td>\n",
       "      <td>0.0</td>\n",
       "      <td>0.0</td>\n",
       "      <td>0.0</td>\n",
       "      <td>0.0</td>\n",
       "      <td>0.0</td>\n",
       "      <td>0.0</td>\n",
       "      <td>0.0</td>\n",
       "      <td>0.0</td>\n",
       "      <td>0.0</td>\n",
       "    </tr>\n",
       "    <tr>\n",
       "      <th>2</th>\n",
       "      <td>0.730</td>\n",
       "      <td>0.212</td>\n",
       "      <td>0.000</td>\n",
       "      <td>0.119</td>\n",
       "      <td>0.1020</td>\n",
       "      <td>0.10200</td>\n",
       "      <td>0.1110</td>\n",
       "      <td>0.12400</td>\n",
       "      <td>0.1150</td>\n",
       "      <td>0.1330</td>\n",
       "      <td>...</td>\n",
       "      <td>0.0</td>\n",
       "      <td>0.0</td>\n",
       "      <td>0.0</td>\n",
       "      <td>0.0</td>\n",
       "      <td>0.0</td>\n",
       "      <td>0.0</td>\n",
       "      <td>0.0</td>\n",
       "      <td>0.0</td>\n",
       "      <td>0.0</td>\n",
       "      <td>0.0</td>\n",
       "    </tr>\n",
       "    <tr>\n",
       "      <th>3</th>\n",
       "      <td>1.000</td>\n",
       "      <td>0.910</td>\n",
       "      <td>0.681</td>\n",
       "      <td>0.473</td>\n",
       "      <td>0.2290</td>\n",
       "      <td>0.06880</td>\n",
       "      <td>0.0000</td>\n",
       "      <td>0.00417</td>\n",
       "      <td>0.0146</td>\n",
       "      <td>0.0542</td>\n",
       "      <td>...</td>\n",
       "      <td>0.0</td>\n",
       "      <td>0.0</td>\n",
       "      <td>0.0</td>\n",
       "      <td>0.0</td>\n",
       "      <td>0.0</td>\n",
       "      <td>0.0</td>\n",
       "      <td>0.0</td>\n",
       "      <td>0.0</td>\n",
       "      <td>0.0</td>\n",
       "      <td>0.0</td>\n",
       "    </tr>\n",
       "    <tr>\n",
       "      <th>4</th>\n",
       "      <td>0.570</td>\n",
       "      <td>0.399</td>\n",
       "      <td>0.238</td>\n",
       "      <td>0.148</td>\n",
       "      <td>0.0000</td>\n",
       "      <td>0.00336</td>\n",
       "      <td>0.0403</td>\n",
       "      <td>0.08050</td>\n",
       "      <td>0.0705</td>\n",
       "      <td>0.0906</td>\n",
       "      <td>...</td>\n",
       "      <td>0.0</td>\n",
       "      <td>0.0</td>\n",
       "      <td>0.0</td>\n",
       "      <td>0.0</td>\n",
       "      <td>0.0</td>\n",
       "      <td>0.0</td>\n",
       "      <td>0.0</td>\n",
       "      <td>0.0</td>\n",
       "      <td>0.0</td>\n",
       "      <td>0.0</td>\n",
       "    </tr>\n",
       "  </tbody>\n",
       "</table>\n",
       "<p>5 rows × 188 columns</p>\n",
       "</div>"
      ],
      "text/plain": [
       "       0      1      2      3       4        5       6        7       8  \\\n",
       "0  1.000  0.758  0.112  0.000  0.0806  0.07850  0.0661  0.04960  0.0475   \n",
       "1  0.908  0.784  0.531  0.363  0.3660  0.34400  0.3330  0.30800  0.2970   \n",
       "2  0.730  0.212  0.000  0.119  0.1020  0.10200  0.1110  0.12400  0.1150   \n",
       "3  1.000  0.910  0.681  0.473  0.2290  0.06880  0.0000  0.00417  0.0146   \n",
       "4  0.570  0.399  0.238  0.148  0.0000  0.00336  0.0403  0.08050  0.0705   \n",
       "\n",
       "        9  ...  178  179  180  181  182  183  184  185  186  label  \n",
       "0  0.0351  ...  0.0  0.0  0.0  0.0  0.0  0.0  0.0  0.0  0.0    0.0  \n",
       "1  0.3000  ...  0.0  0.0  0.0  0.0  0.0  0.0  0.0  0.0  0.0    0.0  \n",
       "2  0.1330  ...  0.0  0.0  0.0  0.0  0.0  0.0  0.0  0.0  0.0    0.0  \n",
       "3  0.0542  ...  0.0  0.0  0.0  0.0  0.0  0.0  0.0  0.0  0.0    0.0  \n",
       "4  0.0906  ...  0.0  0.0  0.0  0.0  0.0  0.0  0.0  0.0  0.0    0.0  \n",
       "\n",
       "[5 rows x 188 columns]"
      ]
     },
     "execution_count": 5,
     "metadata": {},
     "output_type": "execute_result"
    }
   ],
   "source": [
    "df.head()"
   ]
  },
  {
   "cell_type": "code",
   "execution_count": 12,
   "metadata": {},
   "outputs": [
    {
     "data": {
      "image/png": "[encoded data removed]",
      "text/plain": [
       "<Figure size 1000x500 with 1 Axes>"
      ]
     },
     "metadata": {},
     "output_type": "display_data"
    }
   ],
   "source": [
    "plt.figure(figsize=(10, 5))\n",
    "sns.countplot(x=df[\"label\"], order=df[\"label\"].value_counts().index, hue=df[\"label\"])\n",
    "plt.xlabel(\"Tipo de Latido\")\n",
    "plt.ylabel(\"Número de observaciones\")\n",
    "plt.title(\"Distribución de Tipos de Latidos\")\n",
    "plt.show();"
   ]
  },
  {
   "cell_type": "markdown",
   "metadata": {},
   "source": [
    "Se observa que la data se encuentra desbalanceada en cuanto a la variable a predecir"
   ]
  },
  {
   "cell_type": "markdown",
   "metadata": {},
   "source": [
    "## Train - Test Split"
   ]
  },
  {
   "cell_type": "code",
   "execution_count": 17,
   "metadata": {},
   "outputs": [
    {
     "name": "stdout",
     "output_type": "stream",
     "text": [
      "Requirement already satisfied: Pillow in c:\\users\\andre\\miniconda3\\envs\\ml_env\\lib\\site-packages (10.0.0)\n",
      "Note: you may need to restart the kernel to use updated packages.\n"
     ]
    }
   ],
   "source": [
    "%pip install Pillow"
   ]
  },
  {
   "cell_type": "code",
   "execution_count": 18,
   "metadata": {},
   "outputs": [
    {
     "name": "stdout",
     "output_type": "stream",
     "text": [
      "Guardado: ./graficas\\pdfs\\dist_tipos_latidos.pdf\n",
      "Guardado: ./graficas\\pdfs\\mtx_correlacion_senales_ecg.pdf\n"
     ]
    }
   ],
   "source": [
    "from PIL import Image\n",
    "import os\n",
    "\n",
    "# Ruta a la carpeta con las imágenes\n",
    "carpeta_imagenes = './graficas'  # <-- cambia esto\n",
    "\n",
    "# Crear carpeta para guardar los PDFs (opcional)\n",
    "carpeta_salida = os.path.join(carpeta_imagenes, \"pdfs\")\n",
    "os.makedirs(carpeta_salida, exist_ok=True)\n",
    "\n",
    "# Extensiones de imagen válidas\n",
    "extensiones_validas = (\".jpg\", \".jpeg\", \".png\", \".bmp\", \".tiff\")\n",
    "\n",
    "# Iterar sobre archivos en la carpeta\n",
    "for nombre_archivo in os.listdir(carpeta_imagenes):\n",
    "    if nombre_archivo.lower().endswith(extensiones_validas):\n",
    "        ruta_imagen = os.path.join(carpeta_imagenes, nombre_archivo)\n",
    "        nombre_base = os.path.splitext(nombre_archivo)[0]\n",
    "        ruta_pdf = os.path.join(carpeta_salida, f\"{nombre_base}.pdf\")\n",
    "\n",
    "        # Abrir imagen y convertirla a RGB\n",
    "        imagen = Image.open(ruta_imagen).convert(\"RGB\")\n",
    "\n",
    "        # Guardar como PDF\n",
    "        imagen.save(ruta_pdf, \"PDF\")\n",
    "        print(f\"Guardado: {ruta_pdf}\")\n"
   ]
  }
 ],
 "metadata": {
  "kernelspec": {
   "display_name": "ml_env",
   "language": "python",
   "name": "python3"
  },
  "language_info": {
   "codemirror_mode": {
    "name": "ipython",
    "version": 3
   },
   "file_extension": ".py",
   "mimetype": "text/x-python",
   "name": "python",
   "nbconvert_exporter": "python",
   "pygments_lexer": "ipython3",
   "version": "3.9.19"
  },
  "widgets": {
   "application/vnd.jupyter.widget-state+json": {
    "state": {},
    "version_major": 2,
    "version_minor": 0
   }
  }
 },
 "nbformat": 4,
 "nbformat_minor": 4
}
