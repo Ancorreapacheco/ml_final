{
 "cells": [
  {
   "cell_type": "code",
   "execution_count": 13,
   "metadata": {},
   "outputs": [],
   "source": [
    "import pandas as pd\n",
    "import matplotlib.pyplot as plt\n",
    "import seaborn as sns\n",
    "\n",
    "from imblearn.over_sampling import SMOTE\n",
    "from imblearn.under_sampling import RandomUnderSampler\n",
    "import numpy as np"
   ]
  },
  {
   "cell_type": "markdown",
   "metadata": {},
   "source": [
    "## BALANCEO DE CLASES"
   ]
  },
  {
   "cell_type": "code",
   "execution_count": 2,
   "metadata": {},
   "outputs": [],
   "source": [
    "path = './datasets/mitbih_train.csv'\n",
    "df = pd.read_csv(path, header=None)\n",
    "df.rename(columns={187:\"label\"}, inplace=True) #renombrar la columna de label"
   ]
  },
  {
   "cell_type": "code",
   "execution_count": 5,
   "metadata": {},
   "outputs": [
    {
     "name": "stdout",
     "output_type": "stream",
     "text": [
      "Distribución de clases:\n",
      " label\n",
      "0.0    72471\n",
      "4.0     6431\n",
      "2.0     5788\n",
      "1.0     2223\n",
      "3.0      641\n",
      "Name: count, dtype: int64\n",
      "\n",
      "Porcentaje por clase:\n",
      " label\n",
      "0.0    82.77\n",
      "4.0     7.35\n",
      "2.0     6.61\n",
      "1.0     2.54\n",
      "3.0     0.73\n",
      "Name: proportion, dtype: float64\n"
     ]
    },
    {
     "data": {
      "image/png": "[encoded data removed]",
      "text/plain": [
       "<Figure size 800x500 with 1 Axes>"
      ]
     },
     "metadata": {},
     "output_type": "display_data"
    }
   ],
   "source": [
    "# Conteo de clases\n",
    "class_counts = df['label'].value_counts()\n",
    "print(\"Distribución de clases:\\n\", class_counts)\n",
    "\n",
    "# Porcentaje de cada clase\n",
    "class_percentages = df['label'].value_counts(normalize=True) * 100\n",
    "print(\"\\nPorcentaje por clase:\\n\", class_percentages.round(2))\n",
    "\n",
    "# Visualización\n",
    "plt.figure(figsize=(8, 5))\n",
    "sns.countplot(x='label', hue='label', data=df, palette='Set2', legend=False)\n",
    "plt.title('Distribución de clases')\n",
    "plt.xlabel('Clase')\n",
    "plt.ylabel('Frecuencia')\n",
    "plt.show()\n"
   ]
  },
  {
   "cell_type": "markdown",
   "metadata": {},
   "source": [
    "Al revisar nuestro dataset de training, observamos que la proporción de labels de la clase 0 es considerablemente mayor, (el 82.7%) del total de los datos, que las otras clases. Inclusive hay una clase que representa menos del 1% (clase 3). Las otras 3 clases, contienen entre el 2% y 7% de los datos. Por lo anterior, se infiere que el dataset está desbalanceado."
   ]
  },
  {
   "cell_type": "markdown",
   "metadata": {},
   "source": [
    "### SMOTE (Synthetic Minority Over-sampling Technique)\n",
    "\n",
    "SMOTE es una técnica de sobremuestreo que genera nuevas instancias sintéticas de la clase minoritaria en lugar de simplemente replicar las existentes. Lo hace interpolando entre una muestra de la clase minoritaria y sus vecinos más cercanos en el espacio de características. Esto ayuda a crear un conjunto de datos más equilibrado sin sobreajustar el modelo a duplicados, como sucede con el sobremuestreo clásico, y resulta muy útil cuando el desequilibrio entre clases puede llevar al modelo a ignorar la clase minoritaria.\n",
    "\n",
    "**Fundamento matemático**  \n",
    "Para una muestra minoritaria $x_i$ y uno de sus $k$ vecinos más cercanos $x_{zi}$, se genera un punto sintético $x_{\\text{synt}}$ al interpolar linealmente ambos vectores con un factor aleatorio $\\lambda \\in [0,1]$:\n",
    "\n",
    "$$\n",
    "x_{\\text{synt}} = x_i + \\lambda \\cdot (x_{zi} - x_i).\n",
    "$$\n"
   ]
  },
  {
   "cell_type": "code",
   "execution_count": 12,
   "metadata": {},
   "outputs": [
    {
     "name": "stdout",
     "output_type": "stream",
     "text": [
      "Tamaño de X original: (87554, 187)\n",
      "Distribución original de las clases:\n",
      " label\n",
      "0.0    72471\n",
      "4.0     6431\n",
      "2.0     5788\n",
      "1.0     2223\n",
      "3.0      641\n",
      "Name: count, dtype: int64\n",
      "\n",
      "Tamaño de X tras SMOTE: (362355, 187)\n",
      "Distribución de las clases tras SMOTE:\n",
      " label\n",
      "0.0    72471\n",
      "1.0    72471\n",
      "2.0    72471\n",
      "3.0    72471\n",
      "4.0    72471\n",
      "Name: count, dtype: int64\n"
     ]
    }
   ],
   "source": [
    "# Separar características (X) y etiqueta (y)\n",
    "X = df.drop('label', axis=1)\n",
    "y = df['label']\n",
    "\n",
    "# Instanciar SMOTE\n",
    "sm = SMOTE(random_state=42)\n",
    "\n",
    "# Ajustar y transformar (resamplear) los datos\n",
    "X_res, y_res = sm.fit_resample(X, y)\n",
    "\n",
    "# Mostrar la forma de los datos antes y después\n",
    "print(\"Tamaño de X original:\", X.shape)\n",
    "print(\"Distribución original de las clases:\\n\", y.value_counts())\n",
    "\n",
    "print(\"\\nTamaño de X tras SMOTE:\", X_res.shape)\n",
    "print(\"Distribución de las clases tras SMOTE:\\n\", y_res.value_counts())"
   ]
  },
  {
   "cell_type": "markdown",
   "metadata": {},
   "source": [
    "### **Undersampling (submuestreo)** \n",
    "\n",
    "Es una técnica para manejar el desbalance de clases **reduciendo** el número de instancias de la clase mayoritaria. Con ello se busca equilibrar la proporción de ambas clases y evitar que el modelo ignore la clase minoritaria.\n",
    "\n",
    "Supongamos que tenemos:\n",
    "\n",
    "- Clase mayoritaria $ \\mathcal{C}_{\\text{maj}} $ con $ N $ instancias.\n",
    "- Clase minoritaria $ \\mathcal{C}_{\\text{min}} $ con $ M $ instancias (donde $ M \\ll N $).\n",
    "\n",
    "La idea de **undersampling** es escoger aleatoriamente (o con algún criterio específico) un subconjunto\n",
    "\n",
    "$$\n",
    "\\mathcal{C}_{\\text{maj}}' \\subseteq \\mathcal{C}_{\\text{maj}}\n",
    "$$\n",
    "\n",
    "con $ N' $ instancias, de modo que:\n",
    "\n",
    "$$\n",
    "N' \\approx M \n",
    "\\quad \\text{o} \\quad \n",
    "N' < N \n",
    "\\quad (\\text{con el fin de equilibrar}).\n",
    "$$\n",
    "\n",
    "El nuevo conjunto de datos se convierte en:\n",
    "\n",
    "$$\n",
    "\\mathcal{D}' = \\mathcal{C}_{\\text{maj}}' \\cup \\mathcal{C}_{\\text{min}}.\n",
    "$$\n"
   ]
  },
  {
   "cell_type": "code",
   "execution_count": 14,
   "metadata": {},
   "outputs": [
    {
     "name": "stdout",
     "output_type": "stream",
     "text": [
      "Tamaño de X original: (87554, 187)\n",
      "Distribución original de las clases:\n",
      " label\n",
      "0.0    72471\n",
      "4.0     6431\n",
      "2.0     5788\n",
      "1.0     2223\n",
      "3.0      641\n",
      "Name: count, dtype: int64\n",
      "\n",
      "Tamaño de X tras SMOTE: (3205, 187)\n",
      "Distribución de las clases tras SMOTE:\n",
      " label\n",
      "0.0    641\n",
      "1.0    641\n",
      "2.0    641\n",
      "3.0    641\n",
      "4.0    641\n",
      "Name: count, dtype: int64\n"
     ]
    }
   ],
   "source": [
    "# Separar características (X) y etiqueta (y)\n",
    "X = df.drop('label', axis=1)\n",
    "y = df['label']\n",
    "\n",
    "# Instanciar UnderSampler\n",
    "sm = RandomUnderSampler(random_state=42)\n",
    "\n",
    "# Ajustar y transformar (resamplear) los datos\n",
    "X_res, y_res = sm.fit_resample(X, y)\n",
    "\n",
    "# Mostrar la forma de los datos antes y después\n",
    "print(\"Tamaño de X original:\", X.shape)\n",
    "print(\"Distribución original de las clases:\\n\", y.value_counts())\n",
    "\n",
    "print(\"\\nTamaño de X tras SMOTE:\", X_res.shape)\n",
    "print(\"Distribución de las clases tras SMOTE:\\n\", y_res.value_counts())"
   ]
  },
  {
   "cell_type": "markdown",
   "metadata": {},
   "source": [
    "\n",
    "### ADASYN (Adaptive Synthetic Sampling)\n",
    "\n",
    "ADASYN es una extensión de SMOTE que también crea muestras sintéticas, pero con un enfoque adaptativo: se enfoca en generar más datos sintéticos en las regiones donde la clase minoritaria es más difícil de aprender (es decir, donde hay mayor presencia de la clase mayoritaria). Al centrar la generación de datos en estas áreas críticas, el modelo es reforzado específicamente en los límites más complejos.\n",
    "\n",
    "**Fundamento matemático**  \n",
    "\n",
    "1. **Dificultad local** de la muestra minoritaria \\\\( x_i \\\\):\n",
    "   \\\\[\n",
    "   r_i = \\\\frac{\\\\text{(número de vecinos de la clase mayoritaria)}}{k},\n",
    "   \\\\]\n",
    "   donde \\\\( k \\\\) es la cantidad total de vecinos que se consideran alrededor de \\\\( x_i \\\\).\n",
    "\n",
    "2. **Número de instancias sintéticas \\\\( G_i \\\\)** a generar para cada muestra \\\\( x_i \\\\):\n",
    "   \\\\[\n",
    "   G_i = \\\\frac{r_i}{\\\\sum_{j=1}^{n} r_j} \\\\cdot G,\n",
    "   \\\\]\n",
    "   donde \\\\( n \\\\) es el número de muestras minoritarias y \\\\( G \\\\) es la cantidad total de instancias sintéticas deseadas.\n",
    "\n",
    "3. **Generación de nuevas muestras sintéticas**, igual que en SMOTE:\n",
    "   \\\\[\n",
    "   x_{\\\\text{synt}} = x_i + \\\\lambda \\\\cdot (x_{zi} - x_i),\n",
    "   \\\\]\n",
    "   usando un factor aleatorio \\\\( \\\\lambda \\\\in [0,1] \\\\).\n",
    "\n",
    "De este modo, ADASYN concentra más muestras en las zonas donde la clase minoritaria es más complicada de aprender, a diferencia de SMOTE, que lo hace de forma más uniforme.\n",
    "\n",
    "---\n",
    "\n",
    "\n"
   ]
  },
  {
   "cell_type": "markdown",
   "metadata": {},
   "source": [
    "### class_weight='balanced' (Scikit-learn)\n",
    "\n",
    "En lugar de modificar la distribución de datos, `class_weight='balanced'` asigna automáticamente un peso mayor a las clases menos representadas durante el entrenamiento de modelos como `LogisticRegression`, `RandomForestClassifier` o `SVC`. De esta forma, penaliza más los errores cometidos en las clases con menos muestras, forzando al modelo a prestarles mayor atención. Es una manera simple y efectiva de atenuar el sesgo sin alterar directamente los datos.\n",
    "\n",
    "**Fundamento matemático**  \n",
    "En Scikit-learn, el peso asignado a la clase \\\\( j \\\\) se calcula como:\n",
    "\n",
    "\\\\[\n",
    "w_j = \\\\frac{n}{k \\\\cdot n_j},\n",
    "\\\\]\n",
    "\n",
    "donde:\n",
    "- \\\\( n \\\\) es el número total de muestras,\n",
    "- \\\\( k \\\\) es el número total de clases,\n",
    "- \\\\( n_j \\\\) es la cantidad de instancias de la clase \\\\( j \\\\).\n",
    "\n",
    "Mientras más escasa sea una clase (menor \\\\( n_j \\\\)), mayor será su peso \\\\( w_j \\\\), lo que “protege” la clase minoritaria de ser ignorada."
   ]
  }
 ],
 "metadata": {
  "kernelspec": {
   "display_name": "ml_venv",
   "language": "python",
   "name": "python3"
  },
  "language_info": {
   "codemirror_mode": {
    "name": "ipython",
    "version": 3
   },
   "file_extension": ".py",
   "mimetype": "text/x-python",
   "name": "python",
   "nbconvert_exporter": "python",
   "pygments_lexer": "ipython3",
   "version": "3.9.20"
  },
  "widgets": {
   "application/vnd.jupyter.widget-state+json": {
    "state": {},
    "version_major": 2,
    "version_minor": 0
   }
  }
 },
 "nbformat": 4,
 "nbformat_minor": 4
}
