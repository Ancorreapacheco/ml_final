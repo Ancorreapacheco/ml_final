{
 "cells": [
  {
   "cell_type": "code",
   "execution_count": 1,
   "metadata": {},
   "outputs": [],
   "source": [
    "import warnings\n",
    "warnings.filterwarnings('ignore')\n",
    "\n",
    "import os\n",
    "import pandas as pd\n",
    "import numpy as np\n",
    "from tqdm import tqdm\n",
    "import matplotlib.pyplot as plt\n",
    "from itertools import product\n",
    "from sklearn.metrics import mean_absolute_error, mean_squared_error, mean_absolute_percentage_error, r2_score\n",
    "from sklearn.neighbors import KNeighborsRegressor\n",
    "from sklearn.svm import SVR\n",
    "from statsmodels.stats.diagnostic import acorr_ljungbox\n",
    "from sklearn.preprocessing import StandardScaler\n",
    "import ast"
   ]
  },
  {
   "cell_type": "markdown",
   "metadata": {},
   "source": [
    "# Regresión"
   ]
  },
  {
   "cell_type": "markdown",
   "metadata": {},
   "source": [
    "## Lectura de datos"
   ]
  },
  {
   "cell_type": "code",
   "execution_count": 2,
   "metadata": {},
   "outputs": [
    {
     "data": {
      "text/html": [
       "<div>\n",
       "<style scoped>\n",
       "    .dataframe tbody tr th:only-of-type {\n",
       "        vertical-align: middle;\n",
       "    }\n",
       "\n",
       "    .dataframe tbody tr th {\n",
       "        vertical-align: top;\n",
       "    }\n",
       "\n",
       "    .dataframe thead th {\n",
       "        text-align: right;\n",
       "    }\n",
       "</style>\n",
       "<table border=\"1\" class=\"dataframe\">\n",
       "  <thead>\n",
       "    <tr style=\"text-align: right;\">\n",
       "      <th></th>\n",
       "      <th>HORA (UTC)</th>\n",
       "      <th>VENTO, DIREï¿½ï¿½O HORARIA (gr) (ï¿½ (gr))</th>\n",
       "      <th>VENTO, VELOCIDADE HORARIA (m/s)</th>\n",
       "      <th>UMIDADE REL. MAX. NA HORA ANT. (AUT) (%)</th>\n",
       "      <th>UMIDADE REL. MIN. NA HORA ANT. (AUT) (%)</th>\n",
       "      <th>TEMPERATURA Mï¿½XIMA NA HORA ANT. (AUT) (ï¿½C)</th>\n",
       "      <th>TEMPERATURA Mï¿½NIMA NA HORA ANT. (AUT) (ï¿½C)</th>\n",
       "      <th>UMIDADE RELATIVA DO AR, HORARIA (%)</th>\n",
       "      <th>PRESSAO ATMOSFERICA AO NIVEL DA ESTACAO, HORARIA (mB)</th>\n",
       "      <th>PRECIPITAï¿½ï¿½O TOTAL, HORï¿½RIO (mm)</th>\n",
       "      <th>VENTO, RAJADA MAXIMA (m/s)</th>\n",
       "      <th>PRESSï¿½O ATMOSFERICA MAX.NA HORA ANT. (AUT) (mB)</th>\n",
       "      <th>PRESSï¿½O ATMOSFERICA MIN. NA HORA ANT. (AUT) (mB)</th>\n",
       "    </tr>\n",
       "  </thead>\n",
       "  <tbody>\n",
       "    <tr>\n",
       "      <th>0</th>\n",
       "      <td>12:00</td>\n",
       "      <td>0.809017</td>\n",
       "      <td>1.8</td>\n",
       "      <td>69.0</td>\n",
       "      <td>60.0</td>\n",
       "      <td>22.6</td>\n",
       "      <td>20.7</td>\n",
       "      <td>61.0</td>\n",
       "      <td>888.2</td>\n",
       "      <td>0.0</td>\n",
       "      <td>3.8</td>\n",
       "      <td>888.2</td>\n",
       "      <td>887.7</td>\n",
       "    </tr>\n",
       "  </tbody>\n",
       "</table>\n",
       "</div>"
      ],
      "text/plain": [
       "  HORA (UTC)  VENTO, DIREï¿½ï¿½O HORARIA (gr) (ï¿½ (gr))  \\\n",
       "0      12:00                                    0.809017   \n",
       "\n",
       "   VENTO, VELOCIDADE HORARIA (m/s)  UMIDADE REL. MAX. NA HORA ANT. (AUT) (%)  \\\n",
       "0                              1.8                                      69.0   \n",
       "\n",
       "   UMIDADE REL. MIN. NA HORA ANT. (AUT) (%)  \\\n",
       "0                                      60.0   \n",
       "\n",
       "   TEMPERATURA Mï¿½XIMA NA HORA ANT. (AUT) (ï¿½C)  \\\n",
       "0                                            22.6   \n",
       "\n",
       "   TEMPERATURA Mï¿½NIMA NA HORA ANT. (AUT) (ï¿½C)  \\\n",
       "0                                            20.7   \n",
       "\n",
       "   UMIDADE RELATIVA DO AR, HORARIA (%)  \\\n",
       "0                                 61.0   \n",
       "\n",
       "   PRESSAO ATMOSFERICA AO NIVEL DA ESTACAO, HORARIA (mB)  \\\n",
       "0                                              888.2       \n",
       "\n",
       "   PRECIPITAï¿½ï¿½O TOTAL, HORï¿½RIO (mm)  VENTO, RAJADA MAXIMA (m/s)  \\\n",
       "0                                     0.0                         3.8   \n",
       "\n",
       "   PRESSï¿½O ATMOSFERICA MAX.NA HORA ANT. (AUT) (mB)  \\\n",
       "0                                              888.2   \n",
       "\n",
       "   PRESSï¿½O ATMOSFERICA MIN. NA HORA ANT. (AUT) (mB)  \n",
       "0                                              887.7   "
      ]
     },
     "execution_count": 2,
     "metadata": {},
     "output_type": "execute_result"
    }
   ],
   "source": [
    "df = pd.read_csv('./datasets/data_treino_dv_df_2000_2010.csv')\n",
    "df.head(1)"
   ]
  },
  {
   "cell_type": "code",
   "execution_count": 3,
   "metadata": {},
   "outputs": [
    {
     "data": {
      "text/html": [
       "<div>\n",
       "<style scoped>\n",
       "    .dataframe tbody tr th:only-of-type {\n",
       "        vertical-align: middle;\n",
       "    }\n",
       "\n",
       "    .dataframe tbody tr th {\n",
       "        vertical-align: top;\n",
       "    }\n",
       "\n",
       "    .dataframe thead th {\n",
       "        text-align: right;\n",
       "    }\n",
       "</style>\n",
       "<table border=\"1\" class=\"dataframe\">\n",
       "  <thead>\n",
       "    <tr style=\"text-align: right;\">\n",
       "      <th></th>\n",
       "      <th>HORA</th>\n",
       "      <th>WIND_DIR_HOR</th>\n",
       "      <th>WIND_VEL_HOR</th>\n",
       "      <th>HUM_REL_MAX_ANT</th>\n",
       "      <th>HUM_REL_MIN_ANT</th>\n",
       "      <th>TEMP_MAX_ANT</th>\n",
       "      <th>TEMP_MIN_ANT</th>\n",
       "      <th>HUM_REL_HOR</th>\n",
       "      <th>PRES_ATM_NIV</th>\n",
       "      <th>PREC_HOR</th>\n",
       "      <th>RAFAGA_VIENTO</th>\n",
       "      <th>PRES_ATM_MAX_ANT</th>\n",
       "      <th>PRES_ATM_MIN_ANT</th>\n",
       "    </tr>\n",
       "  </thead>\n",
       "  <tbody>\n",
       "    <tr>\n",
       "      <th>0</th>\n",
       "      <td>12:00</td>\n",
       "      <td>0.809017</td>\n",
       "      <td>1.8</td>\n",
       "      <td>69.0</td>\n",
       "      <td>60.0</td>\n",
       "      <td>22.6</td>\n",
       "      <td>20.7</td>\n",
       "      <td>61.0</td>\n",
       "      <td>888.2</td>\n",
       "      <td>0.0</td>\n",
       "      <td>3.8</td>\n",
       "      <td>888.2</td>\n",
       "      <td>887.7</td>\n",
       "    </tr>\n",
       "    <tr>\n",
       "      <th>1</th>\n",
       "      <td>13:00</td>\n",
       "      <td>0.965926</td>\n",
       "      <td>2.7</td>\n",
       "      <td>62.0</td>\n",
       "      <td>55.0</td>\n",
       "      <td>24.2</td>\n",
       "      <td>22.5</td>\n",
       "      <td>55.0</td>\n",
       "      <td>888.4</td>\n",
       "      <td>0.0</td>\n",
       "      <td>4.7</td>\n",
       "      <td>888.4</td>\n",
       "      <td>888.2</td>\n",
       "    </tr>\n",
       "  </tbody>\n",
       "</table>\n",
       "</div>"
      ],
      "text/plain": [
       "    HORA  WIND_DIR_HOR  WIND_VEL_HOR  HUM_REL_MAX_ANT  HUM_REL_MIN_ANT  \\\n",
       "0  12:00      0.809017           1.8             69.0             60.0   \n",
       "1  13:00      0.965926           2.7             62.0             55.0   \n",
       "\n",
       "   TEMP_MAX_ANT  TEMP_MIN_ANT  HUM_REL_HOR  PRES_ATM_NIV  PREC_HOR  \\\n",
       "0          22.6          20.7         61.0         888.2       0.0   \n",
       "1          24.2          22.5         55.0         888.4       0.0   \n",
       "\n",
       "   RAFAGA_VIENTO  PRES_ATM_MAX_ANT  PRES_ATM_MIN_ANT  \n",
       "0            3.8             888.2             887.7  \n",
       "1            4.7             888.4             888.2  "
      ]
     },
     "execution_count": 3,
     "metadata": {},
     "output_type": "execute_result"
    }
   ],
   "source": [
    "df.columns = ['HORA','WIND_DIR_HOR','WIND_VEL_HOR','HUM_REL_MAX_ANT','HUM_REL_MIN_ANT','TEMP_MAX_ANT','TEMP_MIN_ANT','HUM_REL_HOR','PRES_ATM_NIV','PREC_HOR','RAFAGA_VIENTO','PRES_ATM_MAX_ANT','PRES_ATM_MIN_ANT']\n",
    "df.head(2)"
   ]
  },
  {
   "cell_type": "code",
   "execution_count": 4,
   "metadata": {},
   "outputs": [
    {
     "name": "stdout",
     "output_type": "stream",
     "text": [
      "<class 'pandas.core.frame.DataFrame'>\n",
      "RangeIndex: 87693 entries, 0 to 87692\n",
      "Data columns (total 13 columns):\n",
      " #   Column            Non-Null Count  Dtype  \n",
      "---  ------            --------------  -----  \n",
      " 0   HORA              87693 non-null  object \n",
      " 1   WIND_DIR_HOR      87693 non-null  float64\n",
      " 2   WIND_VEL_HOR      87693 non-null  float64\n",
      " 3   HUM_REL_MAX_ANT   87693 non-null  float64\n",
      " 4   HUM_REL_MIN_ANT   87693 non-null  float64\n",
      " 5   TEMP_MAX_ANT      87693 non-null  float64\n",
      " 6   TEMP_MIN_ANT      87693 non-null  float64\n",
      " 7   HUM_REL_HOR       87693 non-null  float64\n",
      " 8   PRES_ATM_NIV      87693 non-null  float64\n",
      " 9   PREC_HOR          87693 non-null  float64\n",
      " 10  RAFAGA_VIENTO     87693 non-null  float64\n",
      " 11  PRES_ATM_MAX_ANT  87693 non-null  float64\n",
      " 12  PRES_ATM_MIN_ANT  87693 non-null  float64\n",
      "dtypes: float64(12), object(1)\n",
      "memory usage: 8.7+ MB\n"
     ]
    }
   ],
   "source": [
    "df.info()"
   ]
  },
  {
   "cell_type": "code",
   "execution_count": 5,
   "metadata": {},
   "outputs": [
    {
     "data": {
      "text/plain": [
       "HORA                0\n",
       "WIND_DIR_HOR        0\n",
       "WIND_VEL_HOR        0\n",
       "HUM_REL_MAX_ANT     0\n",
       "HUM_REL_MIN_ANT     0\n",
       "TEMP_MAX_ANT        0\n",
       "TEMP_MIN_ANT        0\n",
       "HUM_REL_HOR         0\n",
       "PRES_ATM_NIV        0\n",
       "PREC_HOR            0\n",
       "RAFAGA_VIENTO       0\n",
       "PRES_ATM_MAX_ANT    0\n",
       "PRES_ATM_MIN_ANT    0\n",
       "dtype: int64"
      ]
     },
     "execution_count": 5,
     "metadata": {},
     "output_type": "execute_result"
    }
   ],
   "source": [
    "df.isna().sum()"
   ]
  },
  {
   "cell_type": "code",
   "execution_count": 6,
   "metadata": {},
   "outputs": [],
   "source": [
    "df.drop(columns='HORA', inplace= True)"
   ]
  },
  {
   "cell_type": "markdown",
   "metadata": {},
   "source": [
    "## Modelos con escalamiento de variables\n",
    "\n",
    "Los siguientes modelos requieren escalamiento de las variables predictoras, por lo que se trabajan en la misma función\n",
    "\n",
    "* KNeighboors (vecinos mas cercanos)\n",
    "* Maquinas de soporte vectoriales"
   ]
  },
  {
   "cell_type": "code",
   "execution_count": null,
   "metadata": {},
   "outputs": [],
   "source": [
    "def sliding_window_regression_models_scaling(\n",
    "    df,\n",
    "    target_col='WIND_VEL_HOR',\n",
    "    T_values=[7, 14, 21],\n",
    "    test_window=1,\n",
    "    modelos=[\n",
    "        {'name': 'Kneighboors', 'ModelClass': KNeighborsRegressor, 'params': {'n_neighbors': [5, 10,15], 'algorithm': ['ball_tree', 'kd_tree'], 'leaf_size':[30,60], 'n_jobs':[-1], 'weights': ['uniform', 'distance']}},\n",
    "        {'name': 'SVR', 'ModelClass': SVR, 'params': {\n",
    "          'C': [0.1, 1.0, 10],            # Regularización (más alto = menos tolerancia al error)\n",
    "          'epsilon': [0.01, 0.1, 0.2],     # Margen de tolerancia al error sin penalización\n",
    "          'kernel': ['rbf','linear'],          # Función de kernel (RBF = radial basis function, muy usada)\n",
    "        }\n",
    "      }\n",
    "    ],\n",
    "    save_path='./progreso'\n",
    "):\n",
    "    os.makedirs(save_path, exist_ok=True)\n",
    "    resultados_por_T = {}\n",
    "\n",
    "\n",
    "\n",
    "    for T in tqdm(T_values, desc=\"Procesando ventanas T\", unit=\"ventana\"):\n",
    "        print(f\"\\n🧪 Ventana T = {T} días\")\n",
    "        T_hours = T * 24\n",
    "        test_hours = test_window * 24\n",
    "        total_windows = len(df) - T_hours - test_hours + 1\n",
    "        print(f'😎 Total windows {total_windows}')\n",
    "\n",
    "        output_path = os.path.join(save_path, f's_resultados_T{T}.csv')\n",
    "\n",
    "        # Cargar resultados previos\n",
    "        if os.path.exists(output_path):\n",
    "            df_prev = pd.read_csv(output_path)\n",
    "            if 'params' in df_prev:\n",
    "                df_prev['params'] = df_prev['params'].apply(\n",
    "                    lambda x: ast.literal_eval(x) if isinstance(x, str) else (None if pd.isna(x) else x)\n",
    "                )\n",
    "        else:\n",
    "            df_prev = pd.DataFrame(columns=[\n",
    "                'modelo', 'params', 'T_dias', 'T_horas', 'MAPE', 'MAE', 'RMSE', 'MSE', 'R2', 'LjungBox_p'\n",
    "            ])\n",
    "\n",
    "        # Precalcular splits\n",
    "        splits = []\n",
    "        for start in range(0,total_windows,24): #Para que la ventana se mueva cada 24 horas\n",
    "            train = df.iloc[start: start + T_hours]\n",
    "            test = df.iloc[start + T_hours: start + T_hours + test_hours]\n",
    "\n",
    "            X_train = train.drop(columns=[target_col])\n",
    "            y_train = train[target_col]\n",
    "            X_test = test.drop(columns=[target_col])\n",
    "            y_test = test[target_col]\n",
    "\n",
    "            #Escalo variables\n",
    "                #Instancio el escalador\n",
    "            scaler = StandardScaler()\n",
    "            X_train = scaler.fit_transform(X_train)\n",
    "            X_test = scaler.transform(X_test)\n",
    "\n",
    "\n",
    "            splits.append((X_train, y_train, X_test, y_test))\n",
    "\n",
    "        # Crear todos los modelos con combinaciones completas de parámetros\n",
    "        models = []\n",
    "        for modelo in modelos:\n",
    "            model_name = modelo['name']\n",
    "            ModelClass = modelo['ModelClass']\n",
    "            param_grid = modelo['params']\n",
    "\n",
    "            if param_grid is None:\n",
    "                models.append({'name': model_name, 'model': ModelClass(), 'params': None})\n",
    "            else:\n",
    "                keys = list(param_grid.keys())\n",
    "                values = list(param_grid.values())\n",
    "                for combo in product(*values):\n",
    "                    param_dict = dict(zip(keys, combo))\n",
    "                    model_instance = ModelClass(**param_dict)\n",
    "                    models.append({\n",
    "                        'name': model_name,\n",
    "                        'model': model_instance,\n",
    "                        'params': param_dict\n",
    "                    })\n",
    "\n",
    "        # Evaluar cada modelo\n",
    "        for m in models:\n",
    "            ya_evaluado = ((df_prev['modelo'] == m['name']) & \n",
    "                           (df_prev['params'].apply(lambda p: p == m['params']))).any()\n",
    "\n",
    "            if not df_prev.empty and ya_evaluado:\n",
    "                print(f\"✓ Modelo {m['name']} con {m['params']} ya evaluado para T={T}. Saltando...\")\n",
    "                continue\n",
    "\n",
    "            resultados = {\n",
    "                'modelo': m['name'],\n",
    "                'params': m['params'],\n",
    "                'T_dias': T,\n",
    "                'T_horas': T_hours,\n",
    "                'MAPE': [],\n",
    "                'MAE': [],\n",
    "                'RMSE': [],\n",
    "                'MSE': [],\n",
    "                'R2': [],\n",
    "                'LjungBox_p': []\n",
    "            }\n",
    "\n",
    "            for X_train, y_train, X_test, y_test in tqdm(splits, desc=f\"{m['name']} (T={T}d)\", leave=False):\n",
    "                model = m['model']\n",
    "                model.fit(X_train, y_train)\n",
    "                y_pred = model.predict(X_test)\n",
    "\n",
    "                residuals = y_test.values - y_pred\n",
    "\n",
    "                resultados['MAPE'].append(mean_absolute_percentage_error(y_test, y_pred))\n",
    "                resultados['MAE'].append(mean_absolute_error(y_test, y_pred))\n",
    "                resultados['RMSE'].append(np.sqrt(mean_squared_error(y_test, y_pred)))\n",
    "                resultados['MSE'].append(mean_squared_error(y_test, y_pred))\n",
    "                resultados['R2'].append(r2_score(y_test, y_pred))\n",
    "\n",
    "                if len(residuals) >= 2:\n",
    "                    ljung_p = acorr_ljungbox(residuals, lags=[1], return_df=True)['lb_pvalue'].iloc[0]\n",
    "                else:\n",
    "                    ljung_p = np.nan\n",
    "\n",
    "                resultados['LjungBox_p'].append(ljung_p)\n",
    "\n",
    "            #print(f\"😶‍🌫️Numero de modelos realizado {len(resultados['MAPE'])}\")\n",
    "            # Guardar inmediatamente el resultado de este modelo\n",
    "            nuevo_row = pd.DataFrame([{\n",
    "                'modelo': resultados['modelo'],\n",
    "                'params': resultados['params'],\n",
    "                'T_dias': resultados['T_dias'],\n",
    "                'T_horas': resultados['T_horas'],\n",
    "                'MAPE': np.mean(resultados['MAPE']),\n",
    "                'MAE': np.mean(resultados['MAE']),\n",
    "                'RMSE': np.mean(resultados['RMSE']),\n",
    "                'MSE': np.mean(resultados['MSE']),\n",
    "                'R2': np.mean(resultados['R2']),\n",
    "                'LjungBox_p': np.nanmean(resultados['LjungBox_p'])\n",
    "            }])\n",
    "\n",
    "            df_prev = pd.concat([df_prev, nuevo_row], ignore_index=True)\n",
    "            df_prev.to_csv(output_path, index=False)\n",
    "            print(f\"📦 Guardado modelo {m['name']} con {m['params']} en T={T}\")\n",
    "\n",
    "        resultados_por_T[T] = df_prev\n",
    "        print(f\"✔ Resultados finales guardados en: {output_path}\")\n",
    "\n",
    "    return resultados_por_T\n"
   ]
  },
  {
   "cell_type": "code",
   "execution_count": 8,
   "metadata": {},
   "outputs": [
    {
     "name": "stderr",
     "output_type": "stream",
     "text": [
      "Procesando ventanas T:   0%|          | 0/3 [00:00<?, ?ventana/s]"
     ]
    },
    {
     "name": "stdout",
     "output_type": "stream",
     "text": [
      "\n",
      "🧪 Ventana T = 7 días\n",
      "😎 Total windows 87502\n"
     ]
    },
    {
     "name": "stderr",
     "output_type": "stream",
     "text": []
    },
    {
     "name": "stdout",
     "output_type": "stream",
     "text": [
      "📦 Guardado modelo Kneighboors con {'n_neighbors': 5, 'algorithm': 'ball_tree', 'leaf_size': 30, 'n_jobs': -1, 'weights': 'uniform'} en T=7\n"
     ]
    },
    {
     "name": "stderr",
     "output_type": "stream",
     "text": []
    },
    {
     "name": "stdout",
     "output_type": "stream",
     "text": [
      "📦 Guardado modelo Kneighboors con {'n_neighbors': 5, 'algorithm': 'ball_tree', 'leaf_size': 30, 'n_jobs': -1, 'weights': 'distance'} en T=7\n"
     ]
    },
    {
     "name": "stderr",
     "output_type": "stream",
     "text": []
    },
    {
     "name": "stdout",
     "output_type": "stream",
     "text": [
      "📦 Guardado modelo Kneighboors con {'n_neighbors': 5, 'algorithm': 'ball_tree', 'leaf_size': 60, 'n_jobs': -1, 'weights': 'uniform'} en T=7\n"
     ]
    },
    {
     "name": "stderr",
     "output_type": "stream",
     "text": []
    },
    {
     "name": "stdout",
     "output_type": "stream",
     "text": [
      "📦 Guardado modelo Kneighboors con {'n_neighbors': 5, 'algorithm': 'ball_tree', 'leaf_size': 60, 'n_jobs': -1, 'weights': 'distance'} en T=7\n"
     ]
    },
    {
     "name": "stderr",
     "output_type": "stream",
     "text": []
    },
    {
     "name": "stdout",
     "output_type": "stream",
     "text": [
      "📦 Guardado modelo Kneighboors con {'n_neighbors': 5, 'algorithm': 'kd_tree', 'leaf_size': 30, 'n_jobs': -1, 'weights': 'uniform'} en T=7\n"
     ]
    },
    {
     "name": "stderr",
     "output_type": "stream",
     "text": []
    },
    {
     "name": "stdout",
     "output_type": "stream",
     "text": [
      "📦 Guardado modelo Kneighboors con {'n_neighbors': 5, 'algorithm': 'kd_tree', 'leaf_size': 30, 'n_jobs': -1, 'weights': 'distance'} en T=7\n"
     ]
    },
    {
     "name": "stderr",
     "output_type": "stream",
     "text": []
    },
    {
     "name": "stdout",
     "output_type": "stream",
     "text": [
      "📦 Guardado modelo Kneighboors con {'n_neighbors': 5, 'algorithm': 'kd_tree', 'leaf_size': 60, 'n_jobs': -1, 'weights': 'uniform'} en T=7\n"
     ]
    },
    {
     "name": "stderr",
     "output_type": "stream",
     "text": []
    },
    {
     "name": "stdout",
     "output_type": "stream",
     "text": [
      "📦 Guardado modelo Kneighboors con {'n_neighbors': 5, 'algorithm': 'kd_tree', 'leaf_size': 60, 'n_jobs': -1, 'weights': 'distance'} en T=7\n"
     ]
    },
    {
     "name": "stderr",
     "output_type": "stream",
     "text": []
    },
    {
     "name": "stdout",
     "output_type": "stream",
     "text": [
      "📦 Guardado modelo Kneighboors con {'n_neighbors': 10, 'algorithm': 'ball_tree', 'leaf_size': 30, 'n_jobs': -1, 'weights': 'uniform'} en T=7\n"
     ]
    },
    {
     "name": "stderr",
     "output_type": "stream",
     "text": []
    },
    {
     "name": "stdout",
     "output_type": "stream",
     "text": [
      "📦 Guardado modelo Kneighboors con {'n_neighbors': 10, 'algorithm': 'ball_tree', 'leaf_size': 30, 'n_jobs': -1, 'weights': 'distance'} en T=7\n"
     ]
    },
    {
     "name": "stderr",
     "output_type": "stream",
     "text": []
    },
    {
     "name": "stdout",
     "output_type": "stream",
     "text": [
      "📦 Guardado modelo Kneighboors con {'n_neighbors': 10, 'algorithm': 'ball_tree', 'leaf_size': 60, 'n_jobs': -1, 'weights': 'uniform'} en T=7\n"
     ]
    },
    {
     "name": "stderr",
     "output_type": "stream",
     "text": []
    },
    {
     "name": "stdout",
     "output_type": "stream",
     "text": [
      "📦 Guardado modelo Kneighboors con {'n_neighbors': 10, 'algorithm': 'ball_tree', 'leaf_size': 60, 'n_jobs': -1, 'weights': 'distance'} en T=7\n"
     ]
    },
    {
     "name": "stderr",
     "output_type": "stream",
     "text": []
    },
    {
     "name": "stdout",
     "output_type": "stream",
     "text": [
      "📦 Guardado modelo Kneighboors con {'n_neighbors': 10, 'algorithm': 'kd_tree', 'leaf_size': 30, 'n_jobs': -1, 'weights': 'uniform'} en T=7\n"
     ]
    },
    {
     "name": "stderr",
     "output_type": "stream",
     "text": []
    },
    {
     "name": "stdout",
     "output_type": "stream",
     "text": [
      "📦 Guardado modelo Kneighboors con {'n_neighbors': 10, 'algorithm': 'kd_tree', 'leaf_size': 30, 'n_jobs': -1, 'weights': 'distance'} en T=7\n"
     ]
    },
    {
     "name": "stderr",
     "output_type": "stream",
     "text": []
    },
    {
     "name": "stdout",
     "output_type": "stream",
     "text": [
      "📦 Guardado modelo Kneighboors con {'n_neighbors': 10, 'algorithm': 'kd_tree', 'leaf_size': 60, 'n_jobs': -1, 'weights': 'uniform'} en T=7\n"
     ]
    },
    {
     "name": "stderr",
     "output_type": "stream",
     "text": []
    },
    {
     "name": "stdout",
     "output_type": "stream",
     "text": [
      "📦 Guardado modelo Kneighboors con {'n_neighbors': 10, 'algorithm': 'kd_tree', 'leaf_size': 60, 'n_jobs': -1, 'weights': 'distance'} en T=7\n"
     ]
    },
    {
     "name": "stderr",
     "output_type": "stream",
     "text": []
    },
    {
     "name": "stdout",
     "output_type": "stream",
     "text": [
      "📦 Guardado modelo Kneighboors con {'n_neighbors': 15, 'algorithm': 'ball_tree', 'leaf_size': 30, 'n_jobs': -1, 'weights': 'uniform'} en T=7\n"
     ]
    },
    {
     "name": "stderr",
     "output_type": "stream",
     "text": []
    },
    {
     "name": "stdout",
     "output_type": "stream",
     "text": [
      "📦 Guardado modelo Kneighboors con {'n_neighbors': 15, 'algorithm': 'ball_tree', 'leaf_size': 30, 'n_jobs': -1, 'weights': 'distance'} en T=7\n"
     ]
    },
    {
     "name": "stderr",
     "output_type": "stream",
     "text": []
    },
    {
     "name": "stdout",
     "output_type": "stream",
     "text": [
      "📦 Guardado modelo Kneighboors con {'n_neighbors': 15, 'algorithm': 'ball_tree', 'leaf_size': 60, 'n_jobs': -1, 'weights': 'uniform'} en T=7\n"
     ]
    },
    {
     "name": "stderr",
     "output_type": "stream",
     "text": []
    },
    {
     "name": "stdout",
     "output_type": "stream",
     "text": [
      "📦 Guardado modelo Kneighboors con {'n_neighbors': 15, 'algorithm': 'ball_tree', 'leaf_size': 60, 'n_jobs': -1, 'weights': 'distance'} en T=7\n"
     ]
    },
    {
     "name": "stderr",
     "output_type": "stream",
     "text": []
    },
    {
     "name": "stdout",
     "output_type": "stream",
     "text": [
      "📦 Guardado modelo Kneighboors con {'n_neighbors': 15, 'algorithm': 'kd_tree', 'leaf_size': 30, 'n_jobs': -1, 'weights': 'uniform'} en T=7\n"
     ]
    },
    {
     "name": "stderr",
     "output_type": "stream",
     "text": []
    },
    {
     "name": "stdout",
     "output_type": "stream",
     "text": [
      "📦 Guardado modelo Kneighboors con {'n_neighbors': 15, 'algorithm': 'kd_tree', 'leaf_size': 30, 'n_jobs': -1, 'weights': 'distance'} en T=7\n"
     ]
    },
    {
     "name": "stderr",
     "output_type": "stream",
     "text": []
    },
    {
     "name": "stdout",
     "output_type": "stream",
     "text": [
      "📦 Guardado modelo Kneighboors con {'n_neighbors': 15, 'algorithm': 'kd_tree', 'leaf_size': 60, 'n_jobs': -1, 'weights': 'uniform'} en T=7\n"
     ]
    },
    {
     "name": "stderr",
     "output_type": "stream",
     "text": []
    },
    {
     "name": "stdout",
     "output_type": "stream",
     "text": [
      "📦 Guardado modelo Kneighboors con {'n_neighbors': 15, 'algorithm': 'kd_tree', 'leaf_size': 60, 'n_jobs': -1, 'weights': 'distance'} en T=7\n"
     ]
    },
    {
     "name": "stderr",
     "output_type": "stream",
     "text": []
    },
    {
     "name": "stdout",
     "output_type": "stream",
     "text": [
      "📦 Guardado modelo SVR con {'C': 0.1, 'epsilon': 0.01, 'kernel': 'rbf'} en T=7\n"
     ]
    },
    {
     "name": "stderr",
     "output_type": "stream",
     "text": []
    },
    {
     "name": "stdout",
     "output_type": "stream",
     "text": [
      "📦 Guardado modelo SVR con {'C': 0.1, 'epsilon': 0.01, 'kernel': 'linear'} en T=7\n"
     ]
    },
    {
     "name": "stderr",
     "output_type": "stream",
     "text": []
    },
    {
     "name": "stdout",
     "output_type": "stream",
     "text": [
      "📦 Guardado modelo SVR con {'C': 0.1, 'epsilon': 0.1, 'kernel': 'rbf'} en T=7\n"
     ]
    },
    {
     "name": "stderr",
     "output_type": "stream",
     "text": []
    },
    {
     "name": "stdout",
     "output_type": "stream",
     "text": [
      "📦 Guardado modelo SVR con {'C': 0.1, 'epsilon': 0.1, 'kernel': 'linear'} en T=7\n"
     ]
    },
    {
     "name": "stderr",
     "output_type": "stream",
     "text": []
    },
    {
     "name": "stdout",
     "output_type": "stream",
     "text": [
      "📦 Guardado modelo SVR con {'C': 0.1, 'epsilon': 0.2, 'kernel': 'rbf'} en T=7\n"
     ]
    },
    {
     "name": "stderr",
     "output_type": "stream",
     "text": []
    },
    {
     "name": "stdout",
     "output_type": "stream",
     "text": [
      "📦 Guardado modelo SVR con {'C': 0.1, 'epsilon': 0.2, 'kernel': 'linear'} en T=7\n"
     ]
    },
    {
     "name": "stderr",
     "output_type": "stream",
     "text": []
    },
    {
     "name": "stdout",
     "output_type": "stream",
     "text": [
      "📦 Guardado modelo SVR con {'C': 1.0, 'epsilon': 0.01, 'kernel': 'rbf'} en T=7\n"
     ]
    },
    {
     "name": "stderr",
     "output_type": "stream",
     "text": []
    },
    {
     "name": "stdout",
     "output_type": "stream",
     "text": [
      "📦 Guardado modelo SVR con {'C': 1.0, 'epsilon': 0.01, 'kernel': 'linear'} en T=7\n"
     ]
    },
    {
     "name": "stderr",
     "output_type": "stream",
     "text": []
    },
    {
     "name": "stdout",
     "output_type": "stream",
     "text": [
      "📦 Guardado modelo SVR con {'C': 1.0, 'epsilon': 0.1, 'kernel': 'rbf'} en T=7\n"
     ]
    },
    {
     "name": "stderr",
     "output_type": "stream",
     "text": []
    },
    {
     "name": "stdout",
     "output_type": "stream",
     "text": [
      "📦 Guardado modelo SVR con {'C': 1.0, 'epsilon': 0.1, 'kernel': 'linear'} en T=7\n"
     ]
    },
    {
     "name": "stderr",
     "output_type": "stream",
     "text": []
    },
    {
     "name": "stdout",
     "output_type": "stream",
     "text": [
      "📦 Guardado modelo SVR con {'C': 1.0, 'epsilon': 0.2, 'kernel': 'rbf'} en T=7\n"
     ]
    },
    {
     "name": "stderr",
     "output_type": "stream",
     "text": []
    },
    {
     "name": "stdout",
     "output_type": "stream",
     "text": [
      "📦 Guardado modelo SVR con {'C': 1.0, 'epsilon': 0.2, 'kernel': 'linear'} en T=7\n"
     ]
    },
    {
     "name": "stderr",
     "output_type": "stream",
     "text": []
    },
    {
     "name": "stdout",
     "output_type": "stream",
     "text": [
      "📦 Guardado modelo SVR con {'C': 10, 'epsilon': 0.01, 'kernel': 'rbf'} en T=7\n"
     ]
    },
    {
     "name": "stderr",
     "output_type": "stream",
     "text": []
    },
    {
     "name": "stdout",
     "output_type": "stream",
     "text": [
      "📦 Guardado modelo SVR con {'C': 10, 'epsilon': 0.01, 'kernel': 'linear'} en T=7\n"
     ]
    },
    {
     "name": "stderr",
     "output_type": "stream",
     "text": []
    },
    {
     "name": "stdout",
     "output_type": "stream",
     "text": [
      "📦 Guardado modelo SVR con {'C': 10, 'epsilon': 0.1, 'kernel': 'rbf'} en T=7\n"
     ]
    },
    {
     "name": "stderr",
     "output_type": "stream",
     "text": []
    },
    {
     "name": "stdout",
     "output_type": "stream",
     "text": [
      "📦 Guardado modelo SVR con {'C': 10, 'epsilon': 0.1, 'kernel': 'linear'} en T=7\n"
     ]
    },
    {
     "name": "stderr",
     "output_type": "stream",
     "text": []
    },
    {
     "name": "stdout",
     "output_type": "stream",
     "text": [
      "📦 Guardado modelo SVR con {'C': 10, 'epsilon': 0.2, 'kernel': 'rbf'} en T=7\n"
     ]
    },
    {
     "name": "stderr",
     "output_type": "stream",
     "text": [
      "Procesando ventanas T:  33%|███▎      | 1/3 [46:20<1:32:41, 2780.54s/ventana]"
     ]
    },
    {
     "name": "stdout",
     "output_type": "stream",
     "text": [
      "📦 Guardado modelo SVR con {'C': 10, 'epsilon': 0.2, 'kernel': 'linear'} en T=7\n",
      "✔ Resultados finales guardados en: ./progreso\\s_resultados_T7.csv\n",
      "\n",
      "🧪 Ventana T = 14 días\n",
      "😎 Total windows 87334\n"
     ]
    },
    {
     "name": "stderr",
     "output_type": "stream",
     "text": []
    },
    {
     "name": "stdout",
     "output_type": "stream",
     "text": [
      "📦 Guardado modelo Kneighboors con {'n_neighbors': 5, 'algorithm': 'ball_tree', 'leaf_size': 30, 'n_jobs': -1, 'weights': 'uniform'} en T=14\n"
     ]
    },
    {
     "name": "stderr",
     "output_type": "stream",
     "text": []
    },
    {
     "name": "stdout",
     "output_type": "stream",
     "text": [
      "📦 Guardado modelo Kneighboors con {'n_neighbors': 5, 'algorithm': 'ball_tree', 'leaf_size': 30, 'n_jobs': -1, 'weights': 'distance'} en T=14\n"
     ]
    },
    {
     "name": "stderr",
     "output_type": "stream",
     "text": []
    },
    {
     "name": "stdout",
     "output_type": "stream",
     "text": [
      "📦 Guardado modelo Kneighboors con {'n_neighbors': 5, 'algorithm': 'ball_tree', 'leaf_size': 60, 'n_jobs': -1, 'weights': 'uniform'} en T=14\n"
     ]
    },
    {
     "name": "stderr",
     "output_type": "stream",
     "text": []
    },
    {
     "name": "stdout",
     "output_type": "stream",
     "text": [
      "📦 Guardado modelo Kneighboors con {'n_neighbors': 5, 'algorithm': 'ball_tree', 'leaf_size': 60, 'n_jobs': -1, 'weights': 'distance'} en T=14\n"
     ]
    },
    {
     "name": "stderr",
     "output_type": "stream",
     "text": []
    },
    {
     "name": "stdout",
     "output_type": "stream",
     "text": [
      "📦 Guardado modelo Kneighboors con {'n_neighbors': 5, 'algorithm': 'kd_tree', 'leaf_size': 30, 'n_jobs': -1, 'weights': 'uniform'} en T=14\n"
     ]
    },
    {
     "name": "stderr",
     "output_type": "stream",
     "text": []
    },
    {
     "name": "stdout",
     "output_type": "stream",
     "text": [
      "📦 Guardado modelo Kneighboors con {'n_neighbors': 5, 'algorithm': 'kd_tree', 'leaf_size': 30, 'n_jobs': -1, 'weights': 'distance'} en T=14\n"
     ]
    },
    {
     "name": "stderr",
     "output_type": "stream",
     "text": []
    },
    {
     "name": "stdout",
     "output_type": "stream",
     "text": [
      "📦 Guardado modelo Kneighboors con {'n_neighbors': 5, 'algorithm': 'kd_tree', 'leaf_size': 60, 'n_jobs': -1, 'weights': 'uniform'} en T=14\n"
     ]
    },
    {
     "name": "stderr",
     "output_type": "stream",
     "text": []
    },
    {
     "name": "stdout",
     "output_type": "stream",
     "text": [
      "📦 Guardado modelo Kneighboors con {'n_neighbors': 5, 'algorithm': 'kd_tree', 'leaf_size': 60, 'n_jobs': -1, 'weights': 'distance'} en T=14\n"
     ]
    },
    {
     "name": "stderr",
     "output_type": "stream",
     "text": []
    },
    {
     "name": "stdout",
     "output_type": "stream",
     "text": [
      "📦 Guardado modelo Kneighboors con {'n_neighbors': 10, 'algorithm': 'ball_tree', 'leaf_size': 30, 'n_jobs': -1, 'weights': 'uniform'} en T=14\n"
     ]
    },
    {
     "name": "stderr",
     "output_type": "stream",
     "text": []
    },
    {
     "name": "stdout",
     "output_type": "stream",
     "text": [
      "📦 Guardado modelo Kneighboors con {'n_neighbors': 10, 'algorithm': 'ball_tree', 'leaf_size': 30, 'n_jobs': -1, 'weights': 'distance'} en T=14\n"
     ]
    },
    {
     "name": "stderr",
     "output_type": "stream",
     "text": []
    },
    {
     "name": "stdout",
     "output_type": "stream",
     "text": [
      "📦 Guardado modelo Kneighboors con {'n_neighbors': 10, 'algorithm': 'ball_tree', 'leaf_size': 60, 'n_jobs': -1, 'weights': 'uniform'} en T=14\n"
     ]
    },
    {
     "name": "stderr",
     "output_type": "stream",
     "text": []
    },
    {
     "name": "stdout",
     "output_type": "stream",
     "text": [
      "📦 Guardado modelo Kneighboors con {'n_neighbors': 10, 'algorithm': 'ball_tree', 'leaf_size': 60, 'n_jobs': -1, 'weights': 'distance'} en T=14\n"
     ]
    },
    {
     "name": "stderr",
     "output_type": "stream",
     "text": []
    },
    {
     "name": "stdout",
     "output_type": "stream",
     "text": [
      "📦 Guardado modelo Kneighboors con {'n_neighbors': 10, 'algorithm': 'kd_tree', 'leaf_size': 30, 'n_jobs': -1, 'weights': 'uniform'} en T=14\n"
     ]
    },
    {
     "name": "stderr",
     "output_type": "stream",
     "text": []
    },
    {
     "name": "stdout",
     "output_type": "stream",
     "text": [
      "📦 Guardado modelo Kneighboors con {'n_neighbors': 10, 'algorithm': 'kd_tree', 'leaf_size': 30, 'n_jobs': -1, 'weights': 'distance'} en T=14\n"
     ]
    },
    {
     "name": "stderr",
     "output_type": "stream",
     "text": []
    },
    {
     "name": "stdout",
     "output_type": "stream",
     "text": [
      "📦 Guardado modelo Kneighboors con {'n_neighbors': 10, 'algorithm': 'kd_tree', 'leaf_size': 60, 'n_jobs': -1, 'weights': 'uniform'} en T=14\n"
     ]
    },
    {
     "name": "stderr",
     "output_type": "stream",
     "text": []
    },
    {
     "name": "stdout",
     "output_type": "stream",
     "text": [
      "📦 Guardado modelo Kneighboors con {'n_neighbors': 10, 'algorithm': 'kd_tree', 'leaf_size': 60, 'n_jobs': -1, 'weights': 'distance'} en T=14\n"
     ]
    },
    {
     "name": "stderr",
     "output_type": "stream",
     "text": []
    },
    {
     "name": "stdout",
     "output_type": "stream",
     "text": [
      "📦 Guardado modelo Kneighboors con {'n_neighbors': 15, 'algorithm': 'ball_tree', 'leaf_size': 30, 'n_jobs': -1, 'weights': 'uniform'} en T=14\n"
     ]
    },
    {
     "name": "stderr",
     "output_type": "stream",
     "text": []
    },
    {
     "name": "stdout",
     "output_type": "stream",
     "text": [
      "📦 Guardado modelo Kneighboors con {'n_neighbors': 15, 'algorithm': 'ball_tree', 'leaf_size': 30, 'n_jobs': -1, 'weights': 'distance'} en T=14\n"
     ]
    },
    {
     "name": "stderr",
     "output_type": "stream",
     "text": []
    },
    {
     "name": "stdout",
     "output_type": "stream",
     "text": [
      "📦 Guardado modelo Kneighboors con {'n_neighbors': 15, 'algorithm': 'ball_tree', 'leaf_size': 60, 'n_jobs': -1, 'weights': 'uniform'} en T=14\n"
     ]
    },
    {
     "name": "stderr",
     "output_type": "stream",
     "text": []
    },
    {
     "name": "stdout",
     "output_type": "stream",
     "text": [
      "📦 Guardado modelo Kneighboors con {'n_neighbors': 15, 'algorithm': 'ball_tree', 'leaf_size': 60, 'n_jobs': -1, 'weights': 'distance'} en T=14\n"
     ]
    },
    {
     "name": "stderr",
     "output_type": "stream",
     "text": []
    },
    {
     "name": "stdout",
     "output_type": "stream",
     "text": [
      "📦 Guardado modelo Kneighboors con {'n_neighbors': 15, 'algorithm': 'kd_tree', 'leaf_size': 30, 'n_jobs': -1, 'weights': 'uniform'} en T=14\n"
     ]
    },
    {
     "name": "stderr",
     "output_type": "stream",
     "text": []
    },
    {
     "name": "stdout",
     "output_type": "stream",
     "text": [
      "📦 Guardado modelo Kneighboors con {'n_neighbors': 15, 'algorithm': 'kd_tree', 'leaf_size': 30, 'n_jobs': -1, 'weights': 'distance'} en T=14\n"
     ]
    },
    {
     "name": "stderr",
     "output_type": "stream",
     "text": []
    },
    {
     "name": "stdout",
     "output_type": "stream",
     "text": [
      "📦 Guardado modelo Kneighboors con {'n_neighbors': 15, 'algorithm': 'kd_tree', 'leaf_size': 60, 'n_jobs': -1, 'weights': 'uniform'} en T=14\n"
     ]
    },
    {
     "name": "stderr",
     "output_type": "stream",
     "text": []
    },
    {
     "name": "stdout",
     "output_type": "stream",
     "text": [
      "📦 Guardado modelo Kneighboors con {'n_neighbors': 15, 'algorithm': 'kd_tree', 'leaf_size': 60, 'n_jobs': -1, 'weights': 'distance'} en T=14\n"
     ]
    },
    {
     "name": "stderr",
     "output_type": "stream",
     "text": []
    },
    {
     "name": "stdout",
     "output_type": "stream",
     "text": [
      "📦 Guardado modelo SVR con {'C': 0.1, 'epsilon': 0.01, 'kernel': 'rbf'} en T=14\n"
     ]
    },
    {
     "name": "stderr",
     "output_type": "stream",
     "text": []
    },
    {
     "name": "stdout",
     "output_type": "stream",
     "text": [
      "📦 Guardado modelo SVR con {'C': 0.1, 'epsilon': 0.01, 'kernel': 'linear'} en T=14\n"
     ]
    },
    {
     "name": "stderr",
     "output_type": "stream",
     "text": []
    },
    {
     "name": "stdout",
     "output_type": "stream",
     "text": [
      "📦 Guardado modelo SVR con {'C': 0.1, 'epsilon': 0.1, 'kernel': 'rbf'} en T=14\n"
     ]
    },
    {
     "name": "stderr",
     "output_type": "stream",
     "text": []
    },
    {
     "name": "stdout",
     "output_type": "stream",
     "text": [
      "📦 Guardado modelo SVR con {'C': 0.1, 'epsilon': 0.1, 'kernel': 'linear'} en T=14\n"
     ]
    },
    {
     "name": "stderr",
     "output_type": "stream",
     "text": []
    },
    {
     "name": "stdout",
     "output_type": "stream",
     "text": [
      "📦 Guardado modelo SVR con {'C': 0.1, 'epsilon': 0.2, 'kernel': 'rbf'} en T=14\n"
     ]
    },
    {
     "name": "stderr",
     "output_type": "stream",
     "text": []
    },
    {
     "name": "stdout",
     "output_type": "stream",
     "text": [
      "📦 Guardado modelo SVR con {'C': 0.1, 'epsilon': 0.2, 'kernel': 'linear'} en T=14\n"
     ]
    },
    {
     "name": "stderr",
     "output_type": "stream",
     "text": []
    },
    {
     "name": "stdout",
     "output_type": "stream",
     "text": [
      "📦 Guardado modelo SVR con {'C': 1.0, 'epsilon': 0.01, 'kernel': 'rbf'} en T=14\n"
     ]
    },
    {
     "name": "stderr",
     "output_type": "stream",
     "text": []
    },
    {
     "name": "stdout",
     "output_type": "stream",
     "text": [
      "📦 Guardado modelo SVR con {'C': 1.0, 'epsilon': 0.01, 'kernel': 'linear'} en T=14\n"
     ]
    },
    {
     "name": "stderr",
     "output_type": "stream",
     "text": []
    },
    {
     "name": "stdout",
     "output_type": "stream",
     "text": [
      "📦 Guardado modelo SVR con {'C': 1.0, 'epsilon': 0.1, 'kernel': 'rbf'} en T=14\n"
     ]
    },
    {
     "name": "stderr",
     "output_type": "stream",
     "text": []
    },
    {
     "name": "stdout",
     "output_type": "stream",
     "text": [
      "📦 Guardado modelo SVR con {'C': 1.0, 'epsilon': 0.1, 'kernel': 'linear'} en T=14\n"
     ]
    },
    {
     "name": "stderr",
     "output_type": "stream",
     "text": []
    },
    {
     "name": "stdout",
     "output_type": "stream",
     "text": [
      "📦 Guardado modelo SVR con {'C': 1.0, 'epsilon': 0.2, 'kernel': 'rbf'} en T=14\n"
     ]
    },
    {
     "name": "stderr",
     "output_type": "stream",
     "text": []
    },
    {
     "name": "stdout",
     "output_type": "stream",
     "text": [
      "📦 Guardado modelo SVR con {'C': 1.0, 'epsilon': 0.2, 'kernel': 'linear'} en T=14\n"
     ]
    },
    {
     "name": "stderr",
     "output_type": "stream",
     "text": []
    },
    {
     "name": "stdout",
     "output_type": "stream",
     "text": [
      "📦 Guardado modelo SVR con {'C': 10, 'epsilon': 0.01, 'kernel': 'rbf'} en T=14\n"
     ]
    },
    {
     "name": "stderr",
     "output_type": "stream",
     "text": []
    },
    {
     "name": "stdout",
     "output_type": "stream",
     "text": [
      "📦 Guardado modelo SVR con {'C': 10, 'epsilon': 0.01, 'kernel': 'linear'} en T=14\n"
     ]
    },
    {
     "name": "stderr",
     "output_type": "stream",
     "text": []
    },
    {
     "name": "stdout",
     "output_type": "stream",
     "text": [
      "📦 Guardado modelo SVR con {'C': 10, 'epsilon': 0.1, 'kernel': 'rbf'} en T=14\n"
     ]
    },
    {
     "name": "stderr",
     "output_type": "stream",
     "text": []
    },
    {
     "name": "stdout",
     "output_type": "stream",
     "text": [
      "📦 Guardado modelo SVR con {'C': 10, 'epsilon': 0.1, 'kernel': 'linear'} en T=14\n"
     ]
    },
    {
     "name": "stderr",
     "output_type": "stream",
     "text": []
    },
    {
     "name": "stdout",
     "output_type": "stream",
     "text": [
      "📦 Guardado modelo SVR con {'C': 10, 'epsilon': 0.2, 'kernel': 'rbf'} en T=14\n"
     ]
    },
    {
     "name": "stderr",
     "output_type": "stream",
     "text": [
      "Procesando ventanas T:  67%|██████▋   | 2/3 [1:49:55<56:28, 3388.74s/ventana]"
     ]
    },
    {
     "name": "stdout",
     "output_type": "stream",
     "text": [
      "📦 Guardado modelo SVR con {'C': 10, 'epsilon': 0.2, 'kernel': 'linear'} en T=14\n",
      "✔ Resultados finales guardados en: ./progreso\\s_resultados_T14.csv\n",
      "\n",
      "🧪 Ventana T = 21 días\n",
      "😎 Total windows 87166\n"
     ]
    },
    {
     "name": "stderr",
     "output_type": "stream",
     "text": []
    },
    {
     "name": "stdout",
     "output_type": "stream",
     "text": [
      "📦 Guardado modelo Kneighboors con {'n_neighbors': 5, 'algorithm': 'ball_tree', 'leaf_size': 30, 'n_jobs': -1, 'weights': 'uniform'} en T=21\n"
     ]
    },
    {
     "name": "stderr",
     "output_type": "stream",
     "text": []
    },
    {
     "name": "stdout",
     "output_type": "stream",
     "text": [
      "📦 Guardado modelo Kneighboors con {'n_neighbors': 5, 'algorithm': 'ball_tree', 'leaf_size': 30, 'n_jobs': -1, 'weights': 'distance'} en T=21\n"
     ]
    },
    {
     "name": "stderr",
     "output_type": "stream",
     "text": []
    },
    {
     "name": "stdout",
     "output_type": "stream",
     "text": [
      "📦 Guardado modelo Kneighboors con {'n_neighbors': 5, 'algorithm': 'ball_tree', 'leaf_size': 60, 'n_jobs': -1, 'weights': 'uniform'} en T=21\n"
     ]
    },
    {
     "name": "stderr",
     "output_type": "stream",
     "text": []
    },
    {
     "name": "stdout",
     "output_type": "stream",
     "text": [
      "📦 Guardado modelo Kneighboors con {'n_neighbors': 5, 'algorithm': 'ball_tree', 'leaf_size': 60, 'n_jobs': -1, 'weights': 'distance'} en T=21\n"
     ]
    },
    {
     "name": "stderr",
     "output_type": "stream",
     "text": []
    },
    {
     "name": "stdout",
     "output_type": "stream",
     "text": [
      "📦 Guardado modelo Kneighboors con {'n_neighbors': 5, 'algorithm': 'kd_tree', 'leaf_size': 30, 'n_jobs': -1, 'weights': 'uniform'} en T=21\n"
     ]
    },
    {
     "name": "stderr",
     "output_type": "stream",
     "text": []
    },
    {
     "name": "stdout",
     "output_type": "stream",
     "text": [
      "📦 Guardado modelo Kneighboors con {'n_neighbors': 5, 'algorithm': 'kd_tree', 'leaf_size': 30, 'n_jobs': -1, 'weights': 'distance'} en T=21\n"
     ]
    },
    {
     "name": "stderr",
     "output_type": "stream",
     "text": []
    },
    {
     "name": "stdout",
     "output_type": "stream",
     "text": [
      "📦 Guardado modelo Kneighboors con {'n_neighbors': 5, 'algorithm': 'kd_tree', 'leaf_size': 60, 'n_jobs': -1, 'weights': 'uniform'} en T=21\n"
     ]
    },
    {
     "name": "stderr",
     "output_type": "stream",
     "text": []
    },
    {
     "name": "stdout",
     "output_type": "stream",
     "text": [
      "📦 Guardado modelo Kneighboors con {'n_neighbors': 5, 'algorithm': 'kd_tree', 'leaf_size': 60, 'n_jobs': -1, 'weights': 'distance'} en T=21\n"
     ]
    },
    {
     "name": "stderr",
     "output_type": "stream",
     "text": []
    },
    {
     "name": "stdout",
     "output_type": "stream",
     "text": [
      "📦 Guardado modelo Kneighboors con {'n_neighbors': 10, 'algorithm': 'ball_tree', 'leaf_size': 30, 'n_jobs': -1, 'weights': 'uniform'} en T=21\n"
     ]
    },
    {
     "name": "stderr",
     "output_type": "stream",
     "text": []
    },
    {
     "name": "stdout",
     "output_type": "stream",
     "text": [
      "📦 Guardado modelo Kneighboors con {'n_neighbors': 10, 'algorithm': 'ball_tree', 'leaf_size': 30, 'n_jobs': -1, 'weights': 'distance'} en T=21\n"
     ]
    },
    {
     "name": "stderr",
     "output_type": "stream",
     "text": []
    },
    {
     "name": "stdout",
     "output_type": "stream",
     "text": [
      "📦 Guardado modelo Kneighboors con {'n_neighbors': 10, 'algorithm': 'ball_tree', 'leaf_size': 60, 'n_jobs': -1, 'weights': 'uniform'} en T=21\n"
     ]
    },
    {
     "name": "stderr",
     "output_type": "stream",
     "text": []
    },
    {
     "name": "stdout",
     "output_type": "stream",
     "text": [
      "📦 Guardado modelo Kneighboors con {'n_neighbors': 10, 'algorithm': 'ball_tree', 'leaf_size': 60, 'n_jobs': -1, 'weights': 'distance'} en T=21\n"
     ]
    },
    {
     "name": "stderr",
     "output_type": "stream",
     "text": []
    },
    {
     "name": "stdout",
     "output_type": "stream",
     "text": [
      "📦 Guardado modelo Kneighboors con {'n_neighbors': 10, 'algorithm': 'kd_tree', 'leaf_size': 30, 'n_jobs': -1, 'weights': 'uniform'} en T=21\n"
     ]
    },
    {
     "name": "stderr",
     "output_type": "stream",
     "text": []
    },
    {
     "name": "stdout",
     "output_type": "stream",
     "text": [
      "📦 Guardado modelo Kneighboors con {'n_neighbors': 10, 'algorithm': 'kd_tree', 'leaf_size': 30, 'n_jobs': -1, 'weights': 'distance'} en T=21\n"
     ]
    },
    {
     "name": "stderr",
     "output_type": "stream",
     "text": []
    },
    {
     "name": "stdout",
     "output_type": "stream",
     "text": [
      "📦 Guardado modelo Kneighboors con {'n_neighbors': 10, 'algorithm': 'kd_tree', 'leaf_size': 60, 'n_jobs': -1, 'weights': 'uniform'} en T=21\n"
     ]
    },
    {
     "name": "stderr",
     "output_type": "stream",
     "text": []
    },
    {
     "name": "stdout",
     "output_type": "stream",
     "text": [
      "📦 Guardado modelo Kneighboors con {'n_neighbors': 10, 'algorithm': 'kd_tree', 'leaf_size': 60, 'n_jobs': -1, 'weights': 'distance'} en T=21\n"
     ]
    },
    {
     "name": "stderr",
     "output_type": "stream",
     "text": []
    },
    {
     "name": "stdout",
     "output_type": "stream",
     "text": [
      "📦 Guardado modelo Kneighboors con {'n_neighbors': 15, 'algorithm': 'ball_tree', 'leaf_size': 30, 'n_jobs': -1, 'weights': 'uniform'} en T=21\n"
     ]
    },
    {
     "name": "stderr",
     "output_type": "stream",
     "text": []
    },
    {
     "name": "stdout",
     "output_type": "stream",
     "text": [
      "📦 Guardado modelo Kneighboors con {'n_neighbors': 15, 'algorithm': 'ball_tree', 'leaf_size': 30, 'n_jobs': -1, 'weights': 'distance'} en T=21\n"
     ]
    },
    {
     "name": "stderr",
     "output_type": "stream",
     "text": []
    },
    {
     "name": "stdout",
     "output_type": "stream",
     "text": [
      "📦 Guardado modelo Kneighboors con {'n_neighbors': 15, 'algorithm': 'ball_tree', 'leaf_size': 60, 'n_jobs': -1, 'weights': 'uniform'} en T=21\n"
     ]
    },
    {
     "name": "stderr",
     "output_type": "stream",
     "text": []
    },
    {
     "name": "stdout",
     "output_type": "stream",
     "text": [
      "📦 Guardado modelo Kneighboors con {'n_neighbors': 15, 'algorithm': 'ball_tree', 'leaf_size': 60, 'n_jobs': -1, 'weights': 'distance'} en T=21\n"
     ]
    },
    {
     "name": "stderr",
     "output_type": "stream",
     "text": []
    },
    {
     "name": "stdout",
     "output_type": "stream",
     "text": [
      "📦 Guardado modelo Kneighboors con {'n_neighbors': 15, 'algorithm': 'kd_tree', 'leaf_size': 30, 'n_jobs': -1, 'weights': 'uniform'} en T=21\n"
     ]
    },
    {
     "name": "stderr",
     "output_type": "stream",
     "text": []
    },
    {
     "name": "stdout",
     "output_type": "stream",
     "text": [
      "📦 Guardado modelo Kneighboors con {'n_neighbors': 15, 'algorithm': 'kd_tree', 'leaf_size': 30, 'n_jobs': -1, 'weights': 'distance'} en T=21\n"
     ]
    },
    {
     "name": "stderr",
     "output_type": "stream",
     "text": []
    },
    {
     "name": "stdout",
     "output_type": "stream",
     "text": [
      "📦 Guardado modelo Kneighboors con {'n_neighbors': 15, 'algorithm': 'kd_tree', 'leaf_size': 60, 'n_jobs': -1, 'weights': 'uniform'} en T=21\n"
     ]
    },
    {
     "name": "stderr",
     "output_type": "stream",
     "text": []
    },
    {
     "name": "stdout",
     "output_type": "stream",
     "text": [
      "📦 Guardado modelo Kneighboors con {'n_neighbors': 15, 'algorithm': 'kd_tree', 'leaf_size': 60, 'n_jobs': -1, 'weights': 'distance'} en T=21\n"
     ]
    },
    {
     "name": "stderr",
     "output_type": "stream",
     "text": []
    },
    {
     "name": "stdout",
     "output_type": "stream",
     "text": [
      "📦 Guardado modelo SVR con {'C': 0.1, 'epsilon': 0.01, 'kernel': 'rbf'} en T=21\n"
     ]
    },
    {
     "name": "stderr",
     "output_type": "stream",
     "text": []
    },
    {
     "name": "stdout",
     "output_type": "stream",
     "text": [
      "📦 Guardado modelo SVR con {'C': 0.1, 'epsilon': 0.01, 'kernel': 'linear'} en T=21\n"
     ]
    },
    {
     "name": "stderr",
     "output_type": "stream",
     "text": []
    },
    {
     "name": "stdout",
     "output_type": "stream",
     "text": [
      "📦 Guardado modelo SVR con {'C': 0.1, 'epsilon': 0.1, 'kernel': 'rbf'} en T=21\n"
     ]
    },
    {
     "name": "stderr",
     "output_type": "stream",
     "text": []
    },
    {
     "name": "stdout",
     "output_type": "stream",
     "text": [
      "📦 Guardado modelo SVR con {'C': 0.1, 'epsilon': 0.1, 'kernel': 'linear'} en T=21\n"
     ]
    },
    {
     "name": "stderr",
     "output_type": "stream",
     "text": []
    },
    {
     "name": "stdout",
     "output_type": "stream",
     "text": [
      "📦 Guardado modelo SVR con {'C': 0.1, 'epsilon': 0.2, 'kernel': 'rbf'} en T=21\n"
     ]
    },
    {
     "name": "stderr",
     "output_type": "stream",
     "text": []
    },
    {
     "name": "stdout",
     "output_type": "stream",
     "text": [
      "📦 Guardado modelo SVR con {'C': 0.1, 'epsilon': 0.2, 'kernel': 'linear'} en T=21\n"
     ]
    },
    {
     "name": "stderr",
     "output_type": "stream",
     "text": []
    },
    {
     "name": "stdout",
     "output_type": "stream",
     "text": [
      "📦 Guardado modelo SVR con {'C': 1.0, 'epsilon': 0.01, 'kernel': 'rbf'} en T=21\n"
     ]
    },
    {
     "name": "stderr",
     "output_type": "stream",
     "text": []
    },
    {
     "name": "stdout",
     "output_type": "stream",
     "text": [
      "📦 Guardado modelo SVR con {'C': 1.0, 'epsilon': 0.01, 'kernel': 'linear'} en T=21\n"
     ]
    },
    {
     "name": "stderr",
     "output_type": "stream",
     "text": []
    },
    {
     "name": "stdout",
     "output_type": "stream",
     "text": [
      "📦 Guardado modelo SVR con {'C': 1.0, 'epsilon': 0.1, 'kernel': 'rbf'} en T=21\n"
     ]
    },
    {
     "name": "stderr",
     "output_type": "stream",
     "text": []
    },
    {
     "name": "stdout",
     "output_type": "stream",
     "text": [
      "📦 Guardado modelo SVR con {'C': 1.0, 'epsilon': 0.1, 'kernel': 'linear'} en T=21\n"
     ]
    },
    {
     "name": "stderr",
     "output_type": "stream",
     "text": []
    },
    {
     "name": "stdout",
     "output_type": "stream",
     "text": [
      "📦 Guardado modelo SVR con {'C': 1.0, 'epsilon': 0.2, 'kernel': 'rbf'} en T=21\n"
     ]
    },
    {
     "name": "stderr",
     "output_type": "stream",
     "text": []
    },
    {
     "name": "stdout",
     "output_type": "stream",
     "text": [
      "📦 Guardado modelo SVR con {'C': 1.0, 'epsilon': 0.2, 'kernel': 'linear'} en T=21\n"
     ]
    },
    {
     "name": "stderr",
     "output_type": "stream",
     "text": []
    },
    {
     "name": "stdout",
     "output_type": "stream",
     "text": [
      "📦 Guardado modelo SVR con {'C': 10, 'epsilon': 0.01, 'kernel': 'rbf'} en T=21\n"
     ]
    },
    {
     "name": "stderr",
     "output_type": "stream",
     "text": []
    },
    {
     "name": "stdout",
     "output_type": "stream",
     "text": [
      "📦 Guardado modelo SVR con {'C': 10, 'epsilon': 0.01, 'kernel': 'linear'} en T=21\n"
     ]
    },
    {
     "name": "stderr",
     "output_type": "stream",
     "text": []
    },
    {
     "name": "stdout",
     "output_type": "stream",
     "text": [
      "📦 Guardado modelo SVR con {'C': 10, 'epsilon': 0.1, 'kernel': 'rbf'} en T=21\n"
     ]
    },
    {
     "name": "stderr",
     "output_type": "stream",
     "text": []
    },
    {
     "name": "stdout",
     "output_type": "stream",
     "text": [
      "📦 Guardado modelo SVR con {'C': 10, 'epsilon': 0.1, 'kernel': 'linear'} en T=21\n"
     ]
    },
    {
     "name": "stderr",
     "output_type": "stream",
     "text": []
    },
    {
     "name": "stdout",
     "output_type": "stream",
     "text": [
      "📦 Guardado modelo SVR con {'C': 10, 'epsilon': 0.2, 'kernel': 'rbf'} en T=21\n"
     ]
    },
    {
     "name": "stderr",
     "output_type": "stream",
     "text": [
      "Procesando ventanas T: 100%|██████████| 3/3 [3:12:41<00:00, 3853.81s/ventana]"
     ]
    },
    {
     "name": "stdout",
     "output_type": "stream",
     "text": [
      "📦 Guardado modelo SVR con {'C': 10, 'epsilon': 0.2, 'kernel': 'linear'} en T=21\n",
      "✔ Resultados finales guardados en: ./progreso\\s_resultados_T21.csv\n"
     ]
    },
    {
     "name": "stderr",
     "output_type": "stream",
     "text": [
      "\n"
     ]
    }
   ],
   "source": [
    "resultados_por_T = sliding_window_regression_models_scaling(df, target_col='WIND_VEL_HOR')\n",
    "\n",
    "# Ver los DataFrames en memoria\n",
    "df_w_7 = resultados_por_T[7]    # Para T=7 días\n",
    "df_w_14 = resultados_por_T[14]    # Para T=7 días\n",
    "df_w_21 = resultados_por_T[21]    # Para T=7 días\n"
   ]
  },
  {
   "cell_type": "code",
   "execution_count": 9,
   "metadata": {},
   "outputs": [
    {
     "data": {
      "image/png": "[encoded data removed]",
      "text/plain": [
       "<Figure size 1200x600 with 1 Axes>"
      ]
     },
     "metadata": {},
     "output_type": "display_data"
    }
   ],
   "source": [
    "# Ordenar por RMSE de mayor a menor\n",
    "df_w_7_sorted = df_w_7.sort_values(by=\"RMSE\", ascending=True)\n",
    "\n",
    "# Etiquetas combinadas modelo + params\n",
    "etiquetas = df_w_7_sorted['modelo'].astype(str) + ' ' + df_w_7_sorted['params'].astype(str)\n",
    "\n",
    "# Crear la gráfica\n",
    "plt.figure(figsize=(12, 6))\n",
    "plt.bar(etiquetas, df_w_7_sorted['RMSE'])\n",
    "plt.xticks(rotation=45, ha='right')\n",
    "plt.ylabel('RMSE')\n",
    "plt.title('RMSE por Modelo - T=7 días (ordenado de mayor a menor)')\n",
    "plt.tight_layout()\n",
    "plt.show()"
   ]
  },
  {
   "cell_type": "markdown",
   "metadata": {},
   "source": [
    "## KNeighboors"
   ]
  },
  {
   "cell_type": "markdown",
   "metadata": {},
   "source": [
    "Hay que normalizar datos por eso se hace por aparte\n",
    "\n",
    "En principio, hay dos parámetros importantes en el clasificador KNeighbors: el número de vecinos y cómo se mide la distancia entre los puntos de datos. En la práctica, utilizar un número pequeño de vecinos, como tres o cinco, suele funcionar bien, pero se debería ajustar este parámetro.\n",
    "\n",
    "La elección de la medida de distancia correcta es también crucial. Por defecto, KNeighbors utiliza la distancia euclidiana, que funciona bien en muchos casos. Uno de los puntos fuertes de \n",
    "-NN es que el modelo es muy fácil de entender, y a menudo da un rendimiento razonable sin necesidad de muchos ajustes. El uso de este algoritmo es un buen método de referencia para probar, antes de considerar técnicas más avanzadas.\n",
    "\n",
    "La construcción del modelo de vecinos más cercanos suele ser muy rápida, pero cuando el conjunto de entrenamiento es muy grande (ya sea en número de características o en número de muestras) la predicción puede ser lenta. Cuando se utiliza el algoritmo \n",
    "-NN, es importante pre-procesar los datos, tema que revisaremos en secciones posteriores. Este enfoque no suele funcionar bien en conjuntos de datos con muchas características (cientos o más), y lo hace especialmente mal con conjuntos de datos en los que la mayoría de las características son 0 la mayor parte del tiempo (los llamados conjuntos de datos dispersos).\n",
    "\n",
    "Por lo tanto, aunque el algoritmo de \n",
    "-vecinos más cercanos es fácil de entender, no se utiliza a menudo en la práctica, debido a que la predicción es lenta y a su incapacidad para manejar muchas características."
   ]
  },
  {
   "cell_type": "markdown",
   "metadata": {},
   "source": [
    "## Dudas para el profesor\n",
    "\n",
    "1. El fit del escalador se debe realizar con los datos de train, y con ese trabajar tanto train como test? Como se hace en producción??"
   ]
  }
 ],
 "metadata": {
  "kernelspec": {
   "display_name": "ml_venv",
   "language": "python",
   "name": "python3"
  },
  "language_info": {
   "codemirror_mode": {
    "name": "ipython",
    "version": 3
   },
   "file_extension": ".py",
   "mimetype": "text/x-python",
   "name": "python",
   "nbconvert_exporter": "python",
   "pygments_lexer": "ipython3",
   "version": "3.9.20"
  },
  "widgets": {
   "application/vnd.jupyter.widget-state+json": {
    "state": {},
    "version_major": 2,
    "version_minor": 0
   }
  }
 },
 "nbformat": 4,
 "nbformat_minor": 4
}
